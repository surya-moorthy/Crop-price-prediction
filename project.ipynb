{
 "cells": [
  {
   "cell_type": "code",
   "execution_count": null,
   "id": "b7680f71",
   "metadata": {},
   "outputs": [
    {
     "name": "stdout",
     "output_type": "stream",
     "text": [
      "\n"
     ]
    }
   ],
   "source": [
    "import pandas as pd\n",
    "from pymongo import MongoClient\n",
    "import os"
   ]
  },
  {
   "cell_type": "code",
   "execution_count": 9,
   "id": "ae25344d",
   "metadata": {},
   "outputs": [
    {
     "name": "stdout",
     "output_type": "stream",
     "text": [
      "\n"
     ]
    }
   ],
   "source": [
    "url = os.getenv(\"MONGODB_URL\")\n",
    "print(url)"
   ]
  },
  {
   "cell_type": "code",
   "execution_count": 10,
   "id": "f9d58552",
   "metadata": {},
   "outputs": [
    {
     "ename": "ConfigurationError",
     "evalue": "Empty host (or extra comma in host list)",
     "output_type": "error",
     "traceback": [
      "\u001b[31m---------------------------------------------------------------------------\u001b[39m",
      "\u001b[31mConfigurationError\u001b[39m                        Traceback (most recent call last)",
      "\u001b[36mCell\u001b[39m\u001b[36m \u001b[39m\u001b[32mIn[10]\u001b[39m\u001b[32m, line 2\u001b[39m\n\u001b[32m      1\u001b[39m \u001b[38;5;66;03m# Step 1: MongoDB connection\u001b[39;00m\n\u001b[32m----> \u001b[39m\u001b[32m2\u001b[39m client = \u001b[43mMongoClient\u001b[49m\u001b[43m(\u001b[49m\u001b[43murl\u001b[49m\u001b[43m)\u001b[49m\n\u001b[32m      3\u001b[39m db = client[\u001b[33m\"\u001b[39m\u001b[33mproject\u001b[39m\u001b[33m\"\u001b[39m]\n",
      "\u001b[36mFile \u001b[39m\u001b[32md:\\surya\\BDA-Assignment\\.venv\\Lib\\site-packages\\pymongo\\synchronous\\mongo_client.py:812\u001b[39m, in \u001b[36mMongoClient.__init__\u001b[39m\u001b[34m(self, host, port, document_class, tz_aware, connect, type_registry, **kwargs)\u001b[39m\n\u001b[32m    810\u001b[39m         fqdn = res[\u001b[33m\"\u001b[39m\u001b[33mfqdn\u001b[39m\u001b[33m\"\u001b[39m]\n\u001b[32m    811\u001b[39m     \u001b[38;5;28;01melse\u001b[39;00m:\n\u001b[32m--> \u001b[39m\u001b[32m812\u001b[39m         seeds.update(\u001b[43msplit_hosts\u001b[49m\u001b[43m(\u001b[49m\u001b[43mentity\u001b[49m\u001b[43m,\u001b[49m\u001b[43m \u001b[49m\u001b[38;5;28;43mself\u001b[39;49m\u001b[43m.\u001b[49m\u001b[43m_port\u001b[49m\u001b[43m)\u001b[49m)\n\u001b[32m    813\u001b[39m \u001b[38;5;28;01mif\u001b[39;00m \u001b[38;5;129;01mnot\u001b[39;00m seeds:\n\u001b[32m    814\u001b[39m     \u001b[38;5;28;01mraise\u001b[39;00m ConfigurationError(\u001b[33m\"\u001b[39m\u001b[33mneed to specify at least one host\u001b[39m\u001b[33m\"\u001b[39m)\n",
      "\u001b[36mFile \u001b[39m\u001b[32md:\\surya\\BDA-Assignment\\.venv\\Lib\\site-packages\\pymongo\\uri_parser_shared.py:391\u001b[39m, in \u001b[36msplit_hosts\u001b[39m\u001b[34m(hosts, default_port)\u001b[39m\n\u001b[32m    389\u001b[39m \u001b[38;5;28;01mfor\u001b[39;00m entity \u001b[38;5;129;01min\u001b[39;00m hosts.split(\u001b[33m\"\u001b[39m\u001b[33m,\u001b[39m\u001b[33m\"\u001b[39m):\n\u001b[32m    390\u001b[39m     \u001b[38;5;28;01mif\u001b[39;00m \u001b[38;5;129;01mnot\u001b[39;00m entity:\n\u001b[32m--> \u001b[39m\u001b[32m391\u001b[39m         \u001b[38;5;28;01mraise\u001b[39;00m ConfigurationError(\u001b[33m\"\u001b[39m\u001b[33mEmpty host (or extra comma in host list)\u001b[39m\u001b[33m\"\u001b[39m)\n\u001b[32m    392\u001b[39m     port = default_port\n\u001b[32m    393\u001b[39m     \u001b[38;5;66;03m# Unix socket entities don't have ports\u001b[39;00m\n",
      "\u001b[31mConfigurationError\u001b[39m: Empty host (or extra comma in host list)"
     ]
    }
   ],
   "source": [
    "# Step 1: MongoDB connection\n",
    "client = MongoClient(url)\n",
    "db = client[\"project\"]\n"
   ]
  },
  {
   "cell_type": "code",
   "execution_count": 5,
   "id": "ed07c325",
   "metadata": {},
   "outputs": [
    {
     "name": "stdout",
     "output_type": "stream",
     "text": [
      "📄 Loading 'pesticides.csv' → 🗂️ Collection: 'pesticides'\n",
      "✅ Inserted 4349 records into 'pesticides'\n",
      "📄 Loading 'rainfall.csv' → 🗂️ Collection: 'rainfall'\n",
      "✅ Inserted 6727 records into 'rainfall'\n",
      "📄 Loading 'temp.csv' → 🗂️ Collection: 'temp'\n",
      "✅ Inserted 71311 records into 'temp'\n",
      "📄 Loading 'yield.csv' → 🗂️ Collection: 'yield'\n"
     ]
    },
    {
     "ename": "",
     "evalue": "",
     "output_type": "error",
     "traceback": [
      "\u001b[1;31mThe Kernel crashed while executing code in the current cell or a previous cell. \n",
      "\u001b[1;31mPlease review the code in the cell(s) to identify a possible cause of the failure. \n",
      "\u001b[1;31mClick <a href='https://aka.ms/vscodeJupyterKernelCrash'>here</a> for more info. \n",
      "\u001b[1;31mView Jupyter <a href='command:jupyter.viewOutput'>log</a> for further details."
     ]
    }
   ],
   "source": [
    "# Step 2: Set the CSV folder path\n",
    "csv_folder = \"./dataset\"\n",
    "\n",
    "# Step 3: Loop through all CSV files in the folder\n",
    "for filename in os.listdir(csv_folder):\n",
    "    if filename.endswith(\".csv\"):\n",
    "        file_path = os.path.join(csv_folder, filename)\n",
    "        collection_name = os.path.splitext(filename)[0]  # Remove .csv extension\n",
    "\n",
    "        print(f\"📄 Loading '{filename}' → 🗂️ Collection: '{collection_name}'\")\n",
    "\n",
    "        # Load CSV and convert to dictionary\n",
    "        df = pd.read_csv(file_path)\n",
    "        records = df.to_dict(\"records\")\n",
    "\n",
    "        # Insert into MongoDB\n",
    "        collection = db[collection_name]\n",
    "        if records:\n",
    "            collection.insert_many(records)\n",
    "            print(f\"✅ Inserted {len(records)} records into '{collection_name}'\")\n",
    "        else:\n",
    "            print(f\"⚠️ No data found in '{filename}'\")\n",
    "\n",
    "print(\"🎉 All CSVs have been imported successfully!\")"
   ]
  }
 ],
 "metadata": {
  "kernelspec": {
   "display_name": ".venv",
   "language": "python",
   "name": "python3"
  },
  "language_info": {
   "codemirror_mode": {
    "name": "ipython",
    "version": 3
   },
   "file_extension": ".py",
   "mimetype": "text/x-python",
   "name": "python",
   "nbconvert_exporter": "python",
   "pygments_lexer": "ipython3",
   "version": "3.13.3"
  }
 },
 "nbformat": 4,
 "nbformat_minor": 5
}
